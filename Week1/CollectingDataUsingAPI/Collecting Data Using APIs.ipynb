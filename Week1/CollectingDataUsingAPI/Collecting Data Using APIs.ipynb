{
 "cells": [
  {
   "cell_type": "code",
   "execution_count": 3,
   "id": "bc5e4b46-a851-4c90-926e-7c828087a8c5",
   "metadata": {},
   "outputs": [],
   "source": [
    "import pandas as pd\n",
    "import json\n",
    "import requests"
   ]
  },
  {
   "cell_type": "code",
   "execution_count": 13,
   "id": "1573368c-8e84-4855-b6fb-51e60d3e6568",
   "metadata": {},
   "outputs": [
    {
     "name": "stdout",
     "output_type": "stream",
     "text": [
      "all ok\n"
     ]
    }
   ],
   "source": [
    "api_url=\"https://cf-courses-data.s3.us.cloud-object-storage.appdomain.cloud/IBM-DA0321EN-SkillsNetwork/labs/module%201/Accessing%20Data%20Using%20APIs/jobs.json\"\n",
    "response = requests.get(api_url)\n",
    "if response.ok:\n",
    "        data = response.json()\n",
    "        print(\"all ok\")"
   ]
  },
  {
   "cell_type": "code",
   "execution_count": 24,
   "id": "2d85b1ad-5e08-43be-ba62-d354334af5ba",
   "metadata": {},
   "outputs": [
    {
     "data": {
      "text/plain": [
       "('Python', 1173)"
      ]
     },
     "execution_count": 24,
     "metadata": {},
     "output_type": "execute_result"
    }
   ],
   "source": [
    "def get_number_of_jobs_T(technology):\n",
    "    number_of_jobs = 0\n",
    "    response = requests.get(api_url)\n",
    "    if response.ok:             \n",
    "        data = response.json()\n",
    "        for job in data:\n",
    "            key = job.get('Key Skills')\n",
    "            #print(key)\n",
    "\n",
    "            if technology in key :\n",
    "                number_of_jobs = number_of_jobs + 1\n",
    "\n",
    "    return technology,number_of_jobs\n",
    "    \n",
    "get_number_of_jobs_T('Python')"
   ]
  },
  {
   "cell_type": "code",
   "execution_count": 29,
   "id": "739cf2b2-078c-47a2-8a50-00f33bf8290f",
   "metadata": {},
   "outputs": [
    {
     "data": {
      "text/plain": [
       "('Washington DC', 5316)"
      ]
     },
     "execution_count": 29,
     "metadata": {},
     "output_type": "execute_result"
    }
   ],
   "source": [
    "def get_number_of_jobs_L(location):\n",
    "    \n",
    "    response_api = requests.get(api_url)\n",
    "\n",
    "    number_of_jobs = 0\n",
    "\n",
    "    if response_api.ok:            \n",
    "        data = response_api.json()\n",
    "\n",
    "    for job in data:\n",
    "        loc = job.get('Location')\n",
    "\n",
    "        if loc.find(location) > -1 :\n",
    "            number_of_jobs = number_of_jobs + 1\n",
    "\n",
    "    \n",
    "    return location,number_of_jobs\n",
    "get_number_of_jobs_L(\"Washington DC\")"
   ]
  },
  {
   "cell_type": "markdown",
   "id": "940ceaf4-ac44-4bcb-80cc-52a6075a2057",
   "metadata": {},
   "source": [
    "### Storing the results in an excel file\n"
   ]
  },
  {
   "cell_type": "markdown",
   "id": "aa2182f8-52bb-4e21-911a-b4bbfc22c86b",
   "metadata": {},
   "source": [
    "We call the API for all the given technologies above and write the results in an excel spreadsheet.\n"
   ]
  },
  {
   "cell_type": "markdown",
   "id": "f11f5fca-79d0-4528-82db-6dead96a1d59",
   "metadata": {},
   "source": [
    "We create a python list of all locations for which you need to find the number of jobs postings.\n"
   ]
  },
  {
   "cell_type": "code",
   "execution_count": 31,
   "id": "a4ed75ae-5234-442a-b821-52c4f08730bc",
   "metadata": {},
   "outputs": [],
   "source": [
    "locations = ['Los Angeles','New York','San Francisco','Washington DC','Seattle','Austin','Detroit']"
   ]
  },
  {
   "cell_type": "code",
   "execution_count": 34,
   "id": "445e067d-2424-47c6-9727-12fc0142fe83",
   "metadata": {},
   "outputs": [],
   "source": [
    "from openpyxl import Workbook"
   ]
  },
  {
   "cell_type": "code",
   "execution_count": 33,
   "id": "716f4d37-0475-43ca-80e5-e3db67d4c74c",
   "metadata": {},
   "outputs": [
    {
     "name": "stdout",
     "output_type": "stream",
     "text": [
      "Defaulting to user installation because normal site-packages is not writeable\n",
      "Collecting openpyxl\n",
      "  Downloading openpyxl-3.1.2-py2.py3-none-any.whl (249 kB)\n",
      "     -------------------------------------- 250.0/250.0 kB 1.2 MB/s eta 0:00:00\n",
      "Collecting et-xmlfile\n",
      "  Downloading et_xmlfile-1.1.0-py3-none-any.whl (4.7 kB)\n",
      "Installing collected packages: et-xmlfile, openpyxl\n",
      "Successfully installed et-xmlfile-1.1.0 openpyxl-3.1.2\n",
      "Note: you may need to restart the kernel to use updated packages.\n"
     ]
    },
    {
     "name": "stderr",
     "output_type": "stream",
     "text": [
      "\n",
      "[notice] A new release of pip available: 22.3.1 -> 24.0\n",
      "[notice] To update, run: python.exe -m pip install --upgrade pip\n"
     ]
    }
   ],
   "source": [
    "pip install openpyxl"
   ]
  },
  {
   "cell_type": "code",
   "execution_count": 35,
   "id": "e4c871c5-4018-40a3-986e-43b7aec85b71",
   "metadata": {},
   "outputs": [],
   "source": [
    "wb1 = Workbook()\n",
    "ws1 = wb1.active"
   ]
  },
  {
   "cell_type": "markdown",
   "id": "ba1e13a4-f871-4709-9b39-f071677d5329",
   "metadata": {},
   "source": [
    "We find the number of jobs postings for each of the location in the above list and write the Location name and the number of jobs postings into the excel spreadsheet.\n"
   ]
  },
  {
   "cell_type": "code",
   "execution_count": 37,
   "id": "1bca4ddc-2ef9-41cd-b7af-33dd663503d9",
   "metadata": {},
   "outputs": [],
   "source": [
    "ws1.append(['Location','Number of Jobs'])\n",
    "\n",
    "for i in range(len(locations)):\n",
    "    ws1.append(get_number_of_jobs_L(locations[i]))"
   ]
  },
  {
   "cell_type": "code",
   "execution_count": 39,
   "id": "943cc919-6ad5-4322-a4a3-e0dc00a5b33e",
   "metadata": {},
   "outputs": [],
   "source": [
    "wb1.save('job-postings (Collected from API).xlsx')\n",
    "wb1.close()"
   ]
  },
  {
   "cell_type": "markdown",
   "id": "5e1af49f-b88c-42a2-9707-e54939cb502d",
   "metadata": {},
   "source": [
    "In the similar way, we can try for given technologies and results can be stored in an excel sheet."
   ]
  },
  {
   "cell_type": "code",
   "execution_count": 40,
   "id": "bb022982-dfb2-4844-99fe-28c744764d7b",
   "metadata": {},
   "outputs": [],
   "source": [
    "wb2 = Workbook()\n",
    "ws2 = wb2.active\n",
    "\n",
    "languages = ['C','C#','C++','Java','JavaScript','Python','Scala','Oracle','SQL Server','MySQL Server','PostgreSQL','MongoDB']\n",
    "\n",
    "ws2.append(['Languages','Number of Jobs'])\n",
    "\n",
    "for i in range(len(languages)):\n",
    "    ws2.append(get_number_of_jobs_T(languages[i]))\n",
    "\n",
    "wb2.save('job-postings-languages (Collected from API).xlsx')\n",
    "wb2.close()\n"
   ]
  },
  {
   "cell_type": "code",
   "execution_count": null,
   "id": "e0c682d0-130d-4d5a-9f85-a73a028c895a",
   "metadata": {},
   "outputs": [],
   "source": []
  }
 ],
 "metadata": {
  "kernelspec": {
   "display_name": "Python 3 (ipykernel)",
   "language": "python",
   "name": "python3"
  },
  "language_info": {
   "codemirror_mode": {
    "name": "ipython",
    "version": 3
   },
   "file_extension": ".py",
   "mimetype": "text/x-python",
   "name": "python",
   "nbconvert_exporter": "python",
   "pygments_lexer": "ipython3",
   "version": "3.11.1"
  }
 },
 "nbformat": 4,
 "nbformat_minor": 5
}
