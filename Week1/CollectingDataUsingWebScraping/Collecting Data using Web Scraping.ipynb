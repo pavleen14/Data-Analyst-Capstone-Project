{
 "cells": [
  {
   "cell_type": "code",
   "execution_count": 1,
   "id": "945048f8-b1dd-4ce3-911c-fcce8f9b5ea3",
   "metadata": {},
   "outputs": [
    {
     "name": "stdout",
     "output_type": "stream",
     "text": [
      "Defaulting to user installation because normal site-packages is not writeable\n",
      "Collecting bs4\n",
      "  Downloading bs4-0.0.2-py2.py3-none-any.whl (1.2 kB)\n",
      "Requirement already satisfied: beautifulsoup4 in c:\\users\\ncp\\appdata\\roaming\\python\\python311\\site-packages (from bs4) (4.12.3)\n",
      "Requirement already satisfied: soupsieve>1.2 in c:\\users\\ncp\\appdata\\roaming\\python\\python311\\site-packages (from beautifulsoup4->bs4) (2.5)\n",
      "Installing collected packages: bs4\n",
      "Successfully installed bs4-0.0.2\n",
      "Note: you may need to restart the kernel to use updated packages.\n"
     ]
    },
    {
     "name": "stderr",
     "output_type": "stream",
     "text": [
      "\n",
      "[notice] A new release of pip available: 22.3.1 -> 24.0\n",
      "[notice] To update, run: python.exe -m pip install --upgrade pip\n"
     ]
    }
   ],
   "source": [
    "pip install bs4"
   ]
  },
  {
   "cell_type": "code",
   "execution_count": 2,
   "id": "06b8c609-85dc-4905-9f00-e7c4d5e9aa80",
   "metadata": {},
   "outputs": [],
   "source": [
    "from bs4 import BeautifulSoup\n",
    "import pandas as pd\n",
    "import requests"
   ]
  },
  {
   "cell_type": "code",
   "execution_count": 3,
   "id": "a3ee0e01-5620-4299-b970-b3abcee63bb1",
   "metadata": {},
   "outputs": [],
   "source": [
    "url = \"https://cf-courses-data.s3.us.cloud-object-storage.appdomain.cloud/IBM-DA0321EN-SkillsNetwork/labs/datasets/Programming_Languages.html\"\n",
    "data = requests.get(url).text"
   ]
  },
  {
   "cell_type": "code",
   "execution_count": 4,
   "id": "c89daa32-d1ec-4554-86d9-f1130a0a5bd8",
   "metadata": {},
   "outputs": [],
   "source": [
    "import lxml\n",
    "soup = BeautifulSoup(data,\"lxml\")"
   ]
  },
  {
   "cell_type": "markdown",
   "id": "9c71fd12-16bb-4427-a806-7f03b25c5593",
   "metadata": {},
   "source": [
    "We scrape the Language name and annual average salary."
   ]
  },
  {
   "cell_type": "code",
   "execution_count": 5,
   "id": "7e642035-6dfc-4536-93f7-452d0989600b",
   "metadata": {},
   "outputs": [
    {
     "data": {
      "text/plain": [
       "['Language , Average Annual Salary',\n",
       " 'Python , 114383',\n",
       " 'Java , 101013',\n",
       " 'R , 92037',\n",
       " 'Javascript , 110981',\n",
       " 'Swift , 130801',\n",
       " 'C++ , 113865',\n",
       " 'C# , 88726',\n",
       " 'PHP , 84727',\n",
       " 'SQL , 84793',\n",
       " 'Go , 94082']"
      ]
     },
     "execution_count": 5,
     "metadata": {},
     "output_type": "execute_result"
    }
   ],
   "source": [
    "table = soup.find('table')\n",
    "popular_languages = []\n",
    "\n",
    "for row in table.find_all('tr'): \n",
    "    \n",
    "    cols = row.find_all('td') \n",
    "    language = cols[1].getText() \n",
    "    avg_salary = cols[3].getText() \n",
    "    popular_languages.append(str(language) + ' , ' + str(avg_salary).replace('$','').replace(',',''))\n",
    "\n",
    "popular_languages"
   ]
  },
  {
   "cell_type": "code",
   "execution_count": 6,
   "id": "8e4b0822-1424-42d5-a7f3-fab8f740d710",
   "metadata": {},
   "outputs": [],
   "source": [
    "df = pd.DataFrame(popular_languages)\n",
    "df.to_csv('popular-languages(Collected from WebScraping).csv', header=False, index=False)"
   ]
  },
  {
   "cell_type": "code",
   "execution_count": null,
   "id": "b7579c65-4e98-4263-a8e6-cbdd3c0dbbdf",
   "metadata": {},
   "outputs": [],
   "source": []
  }
 ],
 "metadata": {
  "kernelspec": {
   "display_name": "Python 3 (ipykernel)",
   "language": "python",
   "name": "python3"
  },
  "language_info": {
   "codemirror_mode": {
    "name": "ipython",
    "version": 3
   },
   "file_extension": ".py",
   "mimetype": "text/x-python",
   "name": "python",
   "nbconvert_exporter": "python",
   "pygments_lexer": "ipython3",
   "version": "3.11.1"
  }
 },
 "nbformat": 4,
 "nbformat_minor": 5
}
